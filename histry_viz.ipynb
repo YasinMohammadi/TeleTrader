{
 "cells": [
  {
   "cell_type": "markdown",
   "id": "af1f21e1",
   "metadata": {},
   "source": [
    "# Trade Analytics Notebook\n",
    "## Import dependencies & services"
   ]
  },
  {
   "cell_type": "code",
   "execution_count": 1,
   "id": "8349e6cc",
   "metadata": {},
   "outputs": [],
   "source": [
    "import pandas as pd\n",
    "import plotly.graph_objects as go\n",
    "\n",
    "from tradebot.infrastructure.mt5_history import MT5HistoryRepository\n",
    "from tradebot.application.position_service import PositionService\n"
   ]
  },
  {
   "cell_type": "markdown",
   "id": "e06c35cf",
   "metadata": {},
   "source": [
    "## Load raw positions into a DataFrame"
   ]
  },
  {
   "cell_type": "code",
   "execution_count": 2,
   "id": "97d19a3a",
   "metadata": {},
   "outputs": [
    {
     "name": "stderr",
     "output_type": "stream",
     "text": [
      "\u001b[32m2025-06-04 23:44:22.049\u001b[0m | \u001b[1mINFO    \u001b[0m | \u001b[36mtradebot.infrastructure._mt5_utils\u001b[0m:\u001b[36mensure_mt5\u001b[0m:\u001b[36m17\u001b[0m - \u001b[1mMT5  already logged in (account 7303680). No login attempt.\u001b[0m\n",
      "\u001b[32m2025-06-04 23:44:22.050\u001b[0m | \u001b[1mINFO    \u001b[0m | \u001b[36mtradebot.infrastructure.mt5_history\u001b[0m:\u001b[36m__init__\u001b[0m:\u001b[36m12\u001b[0m - \u001b[1mMT5 history repository ready\u001b[0m\n",
      "c:\\Zeno\\TeleTrader\\tradebot\\application\\position_service.py:36: RuntimeWarning: invalid value encountered in scalar divide\n",
      "  vwap = lambda d: (d[\"price\"]*d[\"volume\"]).sum()/d[\"volume\"].sum()\n"
     ]
    }
   ],
   "source": [
    "def load_positions() -> pd.DataFrame:\n",
    "    \"\"\"Fetch MT5 positions and return a tidy DataFrame.\"\"\"\n",
    "    repo = MT5HistoryRepository()\n",
    "    svc  = PositionService(repo)\n",
    "    return pd.DataFrame(svc.positions())\n",
    "\n",
    "positions = load_positions()\n",
    "positions.to_csv(\"positions.csv\", index=False)   # optional cache / debug\n"
   ]
  },
  {
   "cell_type": "markdown",
   "id": "663312c4",
   "metadata": {},
   "source": [
    "## Aggregate trades"
   ]
  },
  {
   "cell_type": "code",
   "execution_count": 3,
   "id": "d0124950",
   "metadata": {},
   "outputs": [
    {
     "data": {
      "application/vnd.microsoft.datawrangler.viewer.v0+json": {
       "columns": [
        {
         "name": "time",
         "rawType": "datetime64[ns, UTC]",
         "type": "unknown"
        },
        {
         "name": "trader",
         "rawType": "object",
         "type": "string"
        },
        {
         "name": "sum_profit",
         "rawType": "float64",
         "type": "float"
        },
        {
         "name": "mean_duration",
         "rawType": "float64",
         "type": "float"
        },
        {
         "name": "total_target",
         "rawType": "float64",
         "type": "float"
        },
        {
         "name": "successful_targets",
         "rawType": "int64",
         "type": "integer"
        },
        {
         "name": "min_rr",
         "rawType": "float64",
         "type": "float"
        },
        {
         "name": "max_rr",
         "rawType": "float64",
         "type": "float"
        }
       ],
       "ref": "7173dcd4-d4a1-4fab-a838-dc25fcc2005b",
       "rows": [
        [
         "2025-05-26 18:46:54+00:00",
         "Lily",
         "-96.6",
         "22587.0",
         "3.0",
         "0",
         "0.62",
         "1.62"
        ],
        [
         "2025-05-27 04:40:01+00:00",
         "Eli",
         "0.0",
         null,
         "1.0",
         "0",
         "1.5",
         "1.5"
        ],
        [
         "2025-05-27 05:41:12+00:00",
         "Nemat",
         "83.42",
         "8692.666666666666",
         "6.0",
         "6",
         "0.25",
         "1.38"
        ],
        [
         "2025-05-27 08:45:49+00:00",
         "Lily",
         "-95.43",
         "43.0",
         "3.0",
         "0",
         "0.93",
         "2.4"
        ],
        [
         "2025-05-27 10:21:43+00:00",
         "Nemat",
         "55.06",
         "3769.4",
         "5.0",
         "5",
         "0.13",
         "1.19"
        ]
       ],
       "shape": {
        "columns": 7,
        "rows": 5
       }
      },
      "text/html": [
       "<div>\n",
       "<style scoped>\n",
       "    .dataframe tbody tr th:only-of-type {\n",
       "        vertical-align: middle;\n",
       "    }\n",
       "\n",
       "    .dataframe tbody tr th {\n",
       "        vertical-align: top;\n",
       "    }\n",
       "\n",
       "    .dataframe thead th {\n",
       "        text-align: right;\n",
       "    }\n",
       "</style>\n",
       "<table border=\"1\" class=\"dataframe\">\n",
       "  <thead>\n",
       "    <tr style=\"text-align: right;\">\n",
       "      <th></th>\n",
       "      <th>trader</th>\n",
       "      <th>sum_profit</th>\n",
       "      <th>mean_duration</th>\n",
       "      <th>total_target</th>\n",
       "      <th>successful_targets</th>\n",
       "      <th>min_rr</th>\n",
       "      <th>max_rr</th>\n",
       "    </tr>\n",
       "    <tr>\n",
       "      <th>time</th>\n",
       "      <th></th>\n",
       "      <th></th>\n",
       "      <th></th>\n",
       "      <th></th>\n",
       "      <th></th>\n",
       "      <th></th>\n",
       "      <th></th>\n",
       "    </tr>\n",
       "  </thead>\n",
       "  <tbody>\n",
       "    <tr>\n",
       "      <th>2025-05-26 18:46:54+00:00</th>\n",
       "      <td>Lily</td>\n",
       "      <td>-96.60</td>\n",
       "      <td>22587.000000</td>\n",
       "      <td>3.0</td>\n",
       "      <td>0</td>\n",
       "      <td>0.62</td>\n",
       "      <td>1.62</td>\n",
       "    </tr>\n",
       "    <tr>\n",
       "      <th>2025-05-27 04:40:01+00:00</th>\n",
       "      <td>Eli</td>\n",
       "      <td>0.00</td>\n",
       "      <td>NaN</td>\n",
       "      <td>1.0</td>\n",
       "      <td>0</td>\n",
       "      <td>1.50</td>\n",
       "      <td>1.50</td>\n",
       "    </tr>\n",
       "    <tr>\n",
       "      <th>2025-05-27 05:41:12+00:00</th>\n",
       "      <td>Nemat</td>\n",
       "      <td>83.42</td>\n",
       "      <td>8692.666667</td>\n",
       "      <td>6.0</td>\n",
       "      <td>6</td>\n",
       "      <td>0.25</td>\n",
       "      <td>1.38</td>\n",
       "    </tr>\n",
       "    <tr>\n",
       "      <th>2025-05-27 08:45:49+00:00</th>\n",
       "      <td>Lily</td>\n",
       "      <td>-95.43</td>\n",
       "      <td>43.000000</td>\n",
       "      <td>3.0</td>\n",
       "      <td>0</td>\n",
       "      <td>0.93</td>\n",
       "      <td>2.40</td>\n",
       "    </tr>\n",
       "    <tr>\n",
       "      <th>2025-05-27 10:21:43+00:00</th>\n",
       "      <td>Nemat</td>\n",
       "      <td>55.06</td>\n",
       "      <td>3769.400000</td>\n",
       "      <td>5.0</td>\n",
       "      <td>5</td>\n",
       "      <td>0.13</td>\n",
       "      <td>1.19</td>\n",
       "    </tr>\n",
       "  </tbody>\n",
       "</table>\n",
       "</div>"
      ],
      "text/plain": [
       "                          trader  sum_profit  mean_duration  total_target  \\\n",
       "time                                                                        \n",
       "2025-05-26 18:46:54+00:00   Lily      -96.60   22587.000000           3.0   \n",
       "2025-05-27 04:40:01+00:00    Eli        0.00            NaN           1.0   \n",
       "2025-05-27 05:41:12+00:00  Nemat       83.42    8692.666667           6.0   \n",
       "2025-05-27 08:45:49+00:00   Lily      -95.43      43.000000           3.0   \n",
       "2025-05-27 10:21:43+00:00  Nemat       55.06    3769.400000           5.0   \n",
       "\n",
       "                           successful_targets  min_rr  max_rr  \n",
       "time                                                           \n",
       "2025-05-26 18:46:54+00:00                   0    0.62    1.62  \n",
       "2025-05-27 04:40:01+00:00                   0    1.50    1.50  \n",
       "2025-05-27 05:41:12+00:00                   6    0.25    1.38  \n",
       "2025-05-27 08:45:49+00:00                   0    0.93    2.40  \n",
       "2025-05-27 10:21:43+00:00                   5    0.13    1.19  "
      ]
     },
     "execution_count": 3,
     "metadata": {},
     "output_type": "execute_result"
    }
   ],
   "source": [
    "def count_positive(series: pd.Series) -> int:\n",
    "    \"\"\"Helper: # of strictly positive values in a Series.\"\"\"\n",
    "    return (series > 0).sum()\n",
    "\n",
    "def group_trades(df: pd.DataFrame) -> pd.DataFrame:\n",
    "    \"\"\"Group by (trader × time_open) and compute summary statistics.\"\"\"\n",
    "    grouped = (\n",
    "        df.groupby(['trader', 'time_open'])\n",
    "          .agg(\n",
    "              sum_profit        = ('profit',        'sum'),\n",
    "              mean_duration     = ('duration_sec',  'mean'),\n",
    "              total_target      = ('target_total',  'first'),\n",
    "              successful_targets= ('profit',        count_positive),\n",
    "              min_rr            = ('rr',            'min'),\n",
    "              max_rr            = ('rr',            'max'),\n",
    "          )\n",
    "          .reset_index()\n",
    "          .rename(columns={'time_open': 'time'})\n",
    "    )\n",
    "\n",
    "    grouped['time'] = pd.to_datetime(grouped['time'], utc=True)\n",
    "    return (grouped\n",
    "            .sort_values('time')\n",
    "            .set_index('time')        # ← makes resampling very easy\n",
    "           )\n",
    "\n",
    "grouped = group_trades(positions)\n",
    "grouped.head()        # sanity-check\n"
   ]
  },
  {
   "cell_type": "markdown",
   "id": "4b071560",
   "metadata": {},
   "source": [
    "##  Weekly trade-count bar chart"
   ]
  },
  {
   "cell_type": "code",
   "execution_count": 4,
   "id": "9d4256f2",
   "metadata": {},
   "outputs": [
    {
     "data": {
      "application/vnd.plotly.v1+json": {
       "config": {
        "plotlyServerURL": "https://plot.ly"
       },
       "data": [
        {
         "name": "Ata",
         "type": "bar",
         "x": [
          "2025-05-26T00:00:00+00:00",
          "2025-06-02T00:00:00+00:00",
          "2025-06-09T00:00:00+00:00"
         ],
         "y": [
          0,
          3,
          16
         ]
        },
        {
         "name": "Eli",
         "type": "bar",
         "x": [
          "2025-05-26T00:00:00+00:00",
          "2025-06-02T00:00:00+00:00",
          "2025-06-09T00:00:00+00:00"
         ],
         "y": [
          0,
          2,
          1
         ]
        },
        {
         "name": "Empire",
         "type": "bar",
         "x": [
          "2025-05-26T00:00:00+00:00",
          "2025-06-02T00:00:00+00:00",
          "2025-06-09T00:00:00+00:00"
         ],
         "y": [
          0,
          5,
          2
         ]
        },
        {
         "name": "Lily",
         "type": "bar",
         "x": [
          "2025-05-26T00:00:00+00:00",
          "2025-06-02T00:00:00+00:00",
          "2025-06-09T00:00:00+00:00"
         ],
         "y": [
          1,
          11,
          6
         ]
        },
        {
         "name": "Nemat",
         "type": "bar",
         "x": [
          "2025-05-26T00:00:00+00:00",
          "2025-06-02T00:00:00+00:00",
          "2025-06-09T00:00:00+00:00"
         ],
         "y": [
          0,
          9,
          3
         ]
        }
       ],
       "layout": {
        "height": 500,
        "template": {
         "data": {
          "bar": [
           {
            "error_x": {
             "color": "#2a3f5f"
            },
            "error_y": {
             "color": "#2a3f5f"
            },
            "marker": {
             "line": {
              "color": "#E5ECF6",
              "width": 0.5
             },
             "pattern": {
              "fillmode": "overlay",
              "size": 10,
              "solidity": 0.2
             }
            },
            "type": "bar"
           }
          ],
          "barpolar": [
           {
            "marker": {
             "line": {
              "color": "#E5ECF6",
              "width": 0.5
             },
             "pattern": {
              "fillmode": "overlay",
              "size": 10,
              "solidity": 0.2
             }
            },
            "type": "barpolar"
           }
          ],
          "carpet": [
           {
            "aaxis": {
             "endlinecolor": "#2a3f5f",
             "gridcolor": "white",
             "linecolor": "white",
             "minorgridcolor": "white",
             "startlinecolor": "#2a3f5f"
            },
            "baxis": {
             "endlinecolor": "#2a3f5f",
             "gridcolor": "white",
             "linecolor": "white",
             "minorgridcolor": "white",
             "startlinecolor": "#2a3f5f"
            },
            "type": "carpet"
           }
          ],
          "choropleth": [
           {
            "colorbar": {
             "outlinewidth": 0,
             "ticks": ""
            },
            "type": "choropleth"
           }
          ],
          "contour": [
           {
            "colorbar": {
             "outlinewidth": 0,
             "ticks": ""
            },
            "colorscale": [
             [
              0,
              "#0d0887"
             ],
             [
              0.1111111111111111,
              "#46039f"
             ],
             [
              0.2222222222222222,
              "#7201a8"
             ],
             [
              0.3333333333333333,
              "#9c179e"
             ],
             [
              0.4444444444444444,
              "#bd3786"
             ],
             [
              0.5555555555555556,
              "#d8576b"
             ],
             [
              0.6666666666666666,
              "#ed7953"
             ],
             [
              0.7777777777777778,
              "#fb9f3a"
             ],
             [
              0.8888888888888888,
              "#fdca26"
             ],
             [
              1,
              "#f0f921"
             ]
            ],
            "type": "contour"
           }
          ],
          "contourcarpet": [
           {
            "colorbar": {
             "outlinewidth": 0,
             "ticks": ""
            },
            "type": "contourcarpet"
           }
          ],
          "heatmap": [
           {
            "colorbar": {
             "outlinewidth": 0,
             "ticks": ""
            },
            "colorscale": [
             [
              0,
              "#0d0887"
             ],
             [
              0.1111111111111111,
              "#46039f"
             ],
             [
              0.2222222222222222,
              "#7201a8"
             ],
             [
              0.3333333333333333,
              "#9c179e"
             ],
             [
              0.4444444444444444,
              "#bd3786"
             ],
             [
              0.5555555555555556,
              "#d8576b"
             ],
             [
              0.6666666666666666,
              "#ed7953"
             ],
             [
              0.7777777777777778,
              "#fb9f3a"
             ],
             [
              0.8888888888888888,
              "#fdca26"
             ],
             [
              1,
              "#f0f921"
             ]
            ],
            "type": "heatmap"
           }
          ],
          "heatmapgl": [
           {
            "colorbar": {
             "outlinewidth": 0,
             "ticks": ""
            },
            "colorscale": [
             [
              0,
              "#0d0887"
             ],
             [
              0.1111111111111111,
              "#46039f"
             ],
             [
              0.2222222222222222,
              "#7201a8"
             ],
             [
              0.3333333333333333,
              "#9c179e"
             ],
             [
              0.4444444444444444,
              "#bd3786"
             ],
             [
              0.5555555555555556,
              "#d8576b"
             ],
             [
              0.6666666666666666,
              "#ed7953"
             ],
             [
              0.7777777777777778,
              "#fb9f3a"
             ],
             [
              0.8888888888888888,
              "#fdca26"
             ],
             [
              1,
              "#f0f921"
             ]
            ],
            "type": "heatmapgl"
           }
          ],
          "histogram": [
           {
            "marker": {
             "pattern": {
              "fillmode": "overlay",
              "size": 10,
              "solidity": 0.2
             }
            },
            "type": "histogram"
           }
          ],
          "histogram2d": [
           {
            "colorbar": {
             "outlinewidth": 0,
             "ticks": ""
            },
            "colorscale": [
             [
              0,
              "#0d0887"
             ],
             [
              0.1111111111111111,
              "#46039f"
             ],
             [
              0.2222222222222222,
              "#7201a8"
             ],
             [
              0.3333333333333333,
              "#9c179e"
             ],
             [
              0.4444444444444444,
              "#bd3786"
             ],
             [
              0.5555555555555556,
              "#d8576b"
             ],
             [
              0.6666666666666666,
              "#ed7953"
             ],
             [
              0.7777777777777778,
              "#fb9f3a"
             ],
             [
              0.8888888888888888,
              "#fdca26"
             ],
             [
              1,
              "#f0f921"
             ]
            ],
            "type": "histogram2d"
           }
          ],
          "histogram2dcontour": [
           {
            "colorbar": {
             "outlinewidth": 0,
             "ticks": ""
            },
            "colorscale": [
             [
              0,
              "#0d0887"
             ],
             [
              0.1111111111111111,
              "#46039f"
             ],
             [
              0.2222222222222222,
              "#7201a8"
             ],
             [
              0.3333333333333333,
              "#9c179e"
             ],
             [
              0.4444444444444444,
              "#bd3786"
             ],
             [
              0.5555555555555556,
              "#d8576b"
             ],
             [
              0.6666666666666666,
              "#ed7953"
             ],
             [
              0.7777777777777778,
              "#fb9f3a"
             ],
             [
              0.8888888888888888,
              "#fdca26"
             ],
             [
              1,
              "#f0f921"
             ]
            ],
            "type": "histogram2dcontour"
           }
          ],
          "mesh3d": [
           {
            "colorbar": {
             "outlinewidth": 0,
             "ticks": ""
            },
            "type": "mesh3d"
           }
          ],
          "parcoords": [
           {
            "line": {
             "colorbar": {
              "outlinewidth": 0,
              "ticks": ""
             }
            },
            "type": "parcoords"
           }
          ],
          "pie": [
           {
            "automargin": true,
            "type": "pie"
           }
          ],
          "scatter": [
           {
            "fillpattern": {
             "fillmode": "overlay",
             "size": 10,
             "solidity": 0.2
            },
            "type": "scatter"
           }
          ],
          "scatter3d": [
           {
            "line": {
             "colorbar": {
              "outlinewidth": 0,
              "ticks": ""
             }
            },
            "marker": {
             "colorbar": {
              "outlinewidth": 0,
              "ticks": ""
             }
            },
            "type": "scatter3d"
           }
          ],
          "scattercarpet": [
           {
            "marker": {
             "colorbar": {
              "outlinewidth": 0,
              "ticks": ""
             }
            },
            "type": "scattercarpet"
           }
          ],
          "scattergeo": [
           {
            "marker": {
             "colorbar": {
              "outlinewidth": 0,
              "ticks": ""
             }
            },
            "type": "scattergeo"
           }
          ],
          "scattergl": [
           {
            "marker": {
             "colorbar": {
              "outlinewidth": 0,
              "ticks": ""
             }
            },
            "type": "scattergl"
           }
          ],
          "scattermapbox": [
           {
            "marker": {
             "colorbar": {
              "outlinewidth": 0,
              "ticks": ""
             }
            },
            "type": "scattermapbox"
           }
          ],
          "scatterpolar": [
           {
            "marker": {
             "colorbar": {
              "outlinewidth": 0,
              "ticks": ""
             }
            },
            "type": "scatterpolar"
           }
          ],
          "scatterpolargl": [
           {
            "marker": {
             "colorbar": {
              "outlinewidth": 0,
              "ticks": ""
             }
            },
            "type": "scatterpolargl"
           }
          ],
          "scatterternary": [
           {
            "marker": {
             "colorbar": {
              "outlinewidth": 0,
              "ticks": ""
             }
            },
            "type": "scatterternary"
           }
          ],
          "surface": [
           {
            "colorbar": {
             "outlinewidth": 0,
             "ticks": ""
            },
            "colorscale": [
             [
              0,
              "#0d0887"
             ],
             [
              0.1111111111111111,
              "#46039f"
             ],
             [
              0.2222222222222222,
              "#7201a8"
             ],
             [
              0.3333333333333333,
              "#9c179e"
             ],
             [
              0.4444444444444444,
              "#bd3786"
             ],
             [
              0.5555555555555556,
              "#d8576b"
             ],
             [
              0.6666666666666666,
              "#ed7953"
             ],
             [
              0.7777777777777778,
              "#fb9f3a"
             ],
             [
              0.8888888888888888,
              "#fdca26"
             ],
             [
              1,
              "#f0f921"
             ]
            ],
            "type": "surface"
           }
          ],
          "table": [
           {
            "cells": {
             "fill": {
              "color": "#EBF0F8"
             },
             "line": {
              "color": "white"
             }
            },
            "header": {
             "fill": {
              "color": "#C8D4E3"
             },
             "line": {
              "color": "white"
             }
            },
            "type": "table"
           }
          ]
         },
         "layout": {
          "annotationdefaults": {
           "arrowcolor": "#2a3f5f",
           "arrowhead": 0,
           "arrowwidth": 1
          },
          "autotypenumbers": "strict",
          "coloraxis": {
           "colorbar": {
            "outlinewidth": 0,
            "ticks": ""
           }
          },
          "colorscale": {
           "diverging": [
            [
             0,
             "#8e0152"
            ],
            [
             0.1,
             "#c51b7d"
            ],
            [
             0.2,
             "#de77ae"
            ],
            [
             0.3,
             "#f1b6da"
            ],
            [
             0.4,
             "#fde0ef"
            ],
            [
             0.5,
             "#f7f7f7"
            ],
            [
             0.6,
             "#e6f5d0"
            ],
            [
             0.7,
             "#b8e186"
            ],
            [
             0.8,
             "#7fbc41"
            ],
            [
             0.9,
             "#4d9221"
            ],
            [
             1,
             "#276419"
            ]
           ],
           "sequential": [
            [
             0,
             "#0d0887"
            ],
            [
             0.1111111111111111,
             "#46039f"
            ],
            [
             0.2222222222222222,
             "#7201a8"
            ],
            [
             0.3333333333333333,
             "#9c179e"
            ],
            [
             0.4444444444444444,
             "#bd3786"
            ],
            [
             0.5555555555555556,
             "#d8576b"
            ],
            [
             0.6666666666666666,
             "#ed7953"
            ],
            [
             0.7777777777777778,
             "#fb9f3a"
            ],
            [
             0.8888888888888888,
             "#fdca26"
            ],
            [
             1,
             "#f0f921"
            ]
           ],
           "sequentialminus": [
            [
             0,
             "#0d0887"
            ],
            [
             0.1111111111111111,
             "#46039f"
            ],
            [
             0.2222222222222222,
             "#7201a8"
            ],
            [
             0.3333333333333333,
             "#9c179e"
            ],
            [
             0.4444444444444444,
             "#bd3786"
            ],
            [
             0.5555555555555556,
             "#d8576b"
            ],
            [
             0.6666666666666666,
             "#ed7953"
            ],
            [
             0.7777777777777778,
             "#fb9f3a"
            ],
            [
             0.8888888888888888,
             "#fdca26"
            ],
            [
             1,
             "#f0f921"
            ]
           ]
          },
          "colorway": [
           "#636efa",
           "#EF553B",
           "#00cc96",
           "#ab63fa",
           "#FFA15A",
           "#19d3f3",
           "#FF6692",
           "#B6E880",
           "#FF97FF",
           "#FECB52"
          ],
          "font": {
           "color": "#2a3f5f"
          },
          "geo": {
           "bgcolor": "white",
           "lakecolor": "white",
           "landcolor": "#E5ECF6",
           "showlakes": true,
           "showland": true,
           "subunitcolor": "white"
          },
          "hoverlabel": {
           "align": "left"
          },
          "hovermode": "closest",
          "mapbox": {
           "style": "light"
          },
          "paper_bgcolor": "white",
          "plot_bgcolor": "#E5ECF6",
          "polar": {
           "angularaxis": {
            "gridcolor": "white",
            "linecolor": "white",
            "ticks": ""
           },
           "bgcolor": "#E5ECF6",
           "radialaxis": {
            "gridcolor": "white",
            "linecolor": "white",
            "ticks": ""
           }
          },
          "scene": {
           "xaxis": {
            "backgroundcolor": "#E5ECF6",
            "gridcolor": "white",
            "gridwidth": 2,
            "linecolor": "white",
            "showbackground": true,
            "ticks": "",
            "zerolinecolor": "white"
           },
           "yaxis": {
            "backgroundcolor": "#E5ECF6",
            "gridcolor": "white",
            "gridwidth": 2,
            "linecolor": "white",
            "showbackground": true,
            "ticks": "",
            "zerolinecolor": "white"
           },
           "zaxis": {
            "backgroundcolor": "#E5ECF6",
            "gridcolor": "white",
            "gridwidth": 2,
            "linecolor": "white",
            "showbackground": true,
            "ticks": "",
            "zerolinecolor": "white"
           }
          },
          "shapedefaults": {
           "line": {
            "color": "#2a3f5f"
           }
          },
          "ternary": {
           "aaxis": {
            "gridcolor": "white",
            "linecolor": "white",
            "ticks": ""
           },
           "baxis": {
            "gridcolor": "white",
            "linecolor": "white",
            "ticks": ""
           },
           "bgcolor": "#E5ECF6",
           "caxis": {
            "gridcolor": "white",
            "linecolor": "white",
            "ticks": ""
           }
          },
          "title": {
           "x": 0.05
          },
          "xaxis": {
           "automargin": true,
           "gridcolor": "white",
           "linecolor": "white",
           "ticks": "",
           "title": {
            "standoff": 15
           },
           "zerolinecolor": "white",
           "zerolinewidth": 2
          },
          "yaxis": {
           "automargin": true,
           "gridcolor": "white",
           "linecolor": "white",
           "ticks": "",
           "title": {
            "standoff": 15
           },
           "zerolinecolor": "white",
           "zerolinewidth": 2
          }
         }
        },
        "title": {
         "text": "Weekly Trade Count – All Traders"
        },
        "updatemenus": [
         {
          "buttons": [
           {
            "args": [
             {
              "visible": [
               true,
               true,
               true,
               true,
               true
              ]
             },
             {
              "title": "Weekly Trade Count – All Traders"
             }
            ],
            "label": "All Traders",
            "method": "update"
           },
           {
            "args": [
             {
              "visible": [
               true,
               false,
               false,
               false,
               false
              ]
             },
             {
              "title": "Weekly Trade Count – Ata"
             }
            ],
            "label": "Ata",
            "method": "update"
           },
           {
            "args": [
             {
              "visible": [
               false,
               true,
               false,
               false,
               false
              ]
             },
             {
              "title": "Weekly Trade Count – Eli"
             }
            ],
            "label": "Eli",
            "method": "update"
           },
           {
            "args": [
             {
              "visible": [
               false,
               false,
               true,
               false,
               false
              ]
             },
             {
              "title": "Weekly Trade Count – Empire"
             }
            ],
            "label": "Empire",
            "method": "update"
           },
           {
            "args": [
             {
              "visible": [
               false,
               false,
               false,
               true,
               false
              ]
             },
             {
              "title": "Weekly Trade Count – Lily"
             }
            ],
            "label": "Lily",
            "method": "update"
           },
           {
            "args": [
             {
              "visible": [
               false,
               false,
               false,
               false,
               true
              ]
             },
             {
              "title": "Weekly Trade Count – Nemat"
             }
            ],
            "label": "Nemat",
            "method": "update"
           }
          ],
          "showactive": true,
          "x": 1.15,
          "y": 1.1
         }
        ],
        "xaxis": {
         "title": {
          "text": "Week (Monday close)"
         }
        },
        "yaxis": {
         "title": {
          "text": "Number of Trades"
         }
        }
       }
      }
     },
     "metadata": {},
     "output_type": "display_data"
    }
   ],
   "source": [
    "def weekly_trade_count_plot(gdf: pd.DataFrame) -> go.Figure:\n",
    "    \"\"\"Interactive bar chart: # trades per week, filterable by trader.\"\"\"\n",
    "    weekly = (\n",
    "        gdf.groupby('trader')\n",
    "           .resample('W-MON')['sum_profit']\n",
    "           .count()\n",
    "           .rename('trade_count')\n",
    "           .reset_index()\n",
    "    )\n",
    "    pivot = weekly.pivot(index='time', columns='trader', values='trade_count').fillna(0)\n",
    "\n",
    "    fig = go.Figure([go.Bar(x=pivot.index, y=pivot[c], name=c) for c in pivot])\n",
    "\n",
    "    # --- dropdown buttons ----------------------------------------------------\n",
    "    btns = [\n",
    "        dict(label=\"All Traders\",\n",
    "             method=\"update\",\n",
    "             args=[{\"visible\": [True]*len(pivot.columns)},\n",
    "                   {\"title\": \"Weekly Trade Count – All Traders\"}])\n",
    "    ]\n",
    "    for i, trader in enumerate(pivot.columns):\n",
    "        vis = [False]*len(pivot.columns); vis[i] = True\n",
    "        btns.append(\n",
    "            dict(label=trader,\n",
    "                 method=\"update\",\n",
    "                 args=[{\"visible\": vis},\n",
    "                       {\"title\": f\"Weekly Trade Count – {trader}\"}])\n",
    "        )\n",
    "\n",
    "    fig.update_layout(\n",
    "        title=\"Weekly Trade Count – All Traders\",\n",
    "        xaxis_title=\"Week (Monday close)\",\n",
    "        yaxis_title=\"Number of Trades\",\n",
    "        updatemenus=[dict(buttons=btns, x=1.15, y=1.1, showactive=True)],\n",
    "        height=500\n",
    "    )\n",
    "    return fig\n",
    "\n",
    "weekly_trade_count_plot(grouped).show()\n"
   ]
  },
  {
   "cell_type": "markdown",
   "id": "d24b436f",
   "metadata": {},
   "source": [
    "## Cumulative P&L plot "
   ]
  },
  {
   "cell_type": "code",
   "execution_count": 5,
   "id": "65358d56",
   "metadata": {},
   "outputs": [
    {
     "data": {
      "application/vnd.plotly.v1+json": {
       "config": {
        "plotlyServerURL": "https://plot.ly"
       },
       "data": [
        {
         "mode": "lines+markers",
         "name": "All Traders (Time)",
         "type": "scatter",
         "visible": true,
         "x": [
          "2025-05-26T18:46:54+00:00",
          "2025-05-27T04:40:01+00:00",
          "2025-05-27T05:41:12+00:00",
          "2025-05-27T08:45:49+00:00",
          "2025-05-27T10:21:43+00:00",
          "2025-05-27T19:10:57+00:00",
          "2025-05-28T07:56:01+00:00",
          "2025-05-28T08:38:49+00:00",
          "2025-05-28T14:13:38+00:00",
          "2025-05-28T15:12:16+00:00",
          "2025-05-28T15:56:01+00:00",
          "2025-05-28T16:40:04+00:00",
          "2025-05-28T17:00:31+00:00",
          "2025-05-28T17:39:16+00:00",
          "2025-05-28T17:50:25+00:00",
          "2025-05-29T05:26:34+00:00",
          "2025-05-29T07:44:36+00:00",
          "2025-05-29T10:18:21+00:00",
          "2025-05-30T07:41:17+00:00",
          "2025-05-30T10:42:30+00:00",
          "2025-05-30T15:02:07+00:00",
          "2025-05-30T15:40:59+00:00",
          "2025-05-30T16:23:18+00:00",
          "2025-05-30T16:53:25+00:00",
          "2025-05-30T16:55:56+00:00",
          "2025-06-02T04:35:12+00:00",
          "2025-06-02T06:01:27+00:00",
          "2025-06-02T13:49:10+00:00",
          "2025-06-02T13:49:11+00:00",
          "2025-06-02T13:49:12+00:00",
          "2025-06-02T15:48:31+00:00",
          "2025-06-03T05:38:26+00:00",
          "2025-06-03T05:38:27+00:00",
          "2025-06-03T05:38:28+00:00",
          "2025-06-03T05:39:40+00:00",
          "2025-06-03T05:39:41+00:00",
          "2025-06-03T05:39:42+00:00",
          "2025-06-03T06:01:41+00:00",
          "2025-06-03T06:01:42+00:00",
          "2025-06-03T06:01:43+00:00",
          "2025-06-03T07:52:03+00:00",
          "2025-06-03T08:24:54+00:00",
          "2025-06-03T08:24:55+00:00",
          "2025-06-03T08:24:56+00:00",
          "2025-06-03T09:48:33+00:00",
          "2025-06-03T10:02:32+00:00",
          "2025-06-03T11:43:04+00:00",
          "2025-06-03T11:43:32+00:00",
          "2025-06-03T16:52:13+00:00",
          "2025-06-03T17:13:54+00:00",
          "2025-06-03T19:30:43+00:00",
          "2025-06-04T08:27:51+00:00",
          "2025-06-04T09:41:00+00:00",
          "2025-06-04T10:59:40+00:00",
          "2025-06-04T11:06:26+00:00",
          "2025-06-04T17:11:49+00:00",
          "2025-06-04T19:59:35+00:00",
          "2025-06-04T19:59:36+00:00",
          "2025-06-04T19:59:37+00:00"
         ],
         "y": [
          -96.6,
          -96.6,
          -13.179999999999993,
          -108.61,
          -53.55,
          -153.20999999999998,
          -249.36999999999998,
          -262.03999999999996,
          -190.66999999999996,
          -285.46999999999997,
          -337.59,
          -430.28999999999996,
          -339.83,
          -439.37,
          -536.81,
          -481.80999999999995,
          -481.68999999999994,
          -573.51,
          -672.27,
          -647.84,
          -650.8000000000001,
          -553.2,
          -489.46000000000004,
          -353.68000000000006,
          -380.77000000000004,
          -243.15000000000003,
          -339.99,
          -326.13,
          -281.63,
          -256.71999999999997,
          -189.99999999999997,
          -135.05999999999997,
          -88.08999999999997,
          -92.13999999999997,
          -77.19999999999997,
          -34.75999999999998,
          -48.50999999999998,
          -71.42999999999998,
          -102.54999999999998,
          -107.71999999999998,
          -204.67999999999998,
          -271.28999999999996,
          -300.83,
          -305.03999999999996,
          -305.03999999999996,
          -316.59,
          -253.93999999999997,
          -191.28999999999996,
          -288.59,
          -286.51,
          -385.63,
          -334.31,
          -424.61,
          -424.75,
          -352.99,
          -456.89,
          -426.61,
          -426.61,
          -426.61
         ]
        },
        {
         "mode": "lines+markers",
         "name": "All Traders (Count)",
         "type": "scatter",
         "visible": false,
         "x": [
          1,
          2,
          3,
          4,
          5,
          6,
          7,
          8,
          9,
          10,
          11,
          12,
          13,
          14,
          15,
          16,
          17,
          18,
          19,
          20,
          21,
          22,
          23,
          24,
          25,
          26,
          27,
          28,
          29,
          30,
          31,
          32,
          33,
          34,
          35,
          36,
          37,
          38,
          39,
          40,
          41,
          42,
          43,
          44,
          45,
          46,
          47,
          48,
          49,
          50,
          51,
          52,
          53,
          54,
          55,
          56,
          57,
          58,
          59
         ],
         "y": [
          -96.6,
          -96.6,
          -13.179999999999993,
          -108.61,
          -53.55,
          -153.20999999999998,
          -249.36999999999998,
          -262.03999999999996,
          -190.66999999999996,
          -285.46999999999997,
          -337.59,
          -430.28999999999996,
          -339.83,
          -439.37,
          -536.81,
          -481.80999999999995,
          -481.68999999999994,
          -573.51,
          -672.27,
          -647.84,
          -650.8000000000001,
          -553.2,
          -489.46000000000004,
          -353.68000000000006,
          -380.77000000000004,
          -243.15000000000003,
          -339.99,
          -326.13,
          -281.63,
          -256.71999999999997,
          -189.99999999999997,
          -135.05999999999997,
          -88.08999999999997,
          -92.13999999999997,
          -77.19999999999997,
          -34.75999999999998,
          -48.50999999999998,
          -71.42999999999998,
          -102.54999999999998,
          -107.71999999999998,
          -204.67999999999998,
          -271.28999999999996,
          -300.83,
          -305.03999999999996,
          -305.03999999999996,
          -316.59,
          -253.93999999999997,
          -191.28999999999996,
          -288.59,
          -286.51,
          -385.63,
          -334.31,
          -424.61,
          -424.75,
          -352.99,
          -456.89,
          -426.61,
          -426.61,
          -426.61
         ]
        },
        {
         "mode": "lines+markers",
         "name": "Ata (Time)",
         "type": "scatter",
         "visible": false,
         "x": [
          "2025-06-02T13:49:10+00:00",
          "2025-06-02T13:49:11+00:00",
          "2025-06-02T13:49:12+00:00",
          "2025-06-03T05:38:26+00:00",
          "2025-06-03T05:38:27+00:00",
          "2025-06-03T05:38:28+00:00",
          "2025-06-03T05:39:40+00:00",
          "2025-06-03T05:39:41+00:00",
          "2025-06-03T05:39:42+00:00",
          "2025-06-03T06:01:41+00:00",
          "2025-06-03T06:01:42+00:00",
          "2025-06-03T06:01:43+00:00",
          "2025-06-03T08:24:54+00:00",
          "2025-06-03T08:24:55+00:00",
          "2025-06-03T08:24:56+00:00",
          "2025-06-03T17:13:54+00:00",
          "2025-06-04T19:59:35+00:00",
          "2025-06-04T19:59:36+00:00",
          "2025-06-04T19:59:37+00:00"
         ],
         "y": [
          13.86,
          58.36,
          83.27,
          138.20999999999998,
          185.17999999999998,
          181.12999999999997,
          196.06999999999996,
          238.50999999999996,
          224.75999999999996,
          201.83999999999997,
          170.71999999999997,
          165.54999999999998,
          98.93999999999998,
          69.39999999999998,
          65.18999999999998,
          67.26999999999998,
          97.54999999999998,
          97.54999999999998,
          97.54999999999998
         ]
        },
        {
         "mode": "lines+markers",
         "name": "Ata (Count)",
         "type": "scatter",
         "visible": false,
         "x": [
          1,
          2,
          3,
          4,
          5,
          6,
          7,
          8,
          9,
          10,
          11,
          12,
          13,
          14,
          15,
          16,
          17,
          18,
          19
         ],
         "y": [
          13.86,
          58.36,
          83.27,
          138.20999999999998,
          185.17999999999998,
          181.12999999999997,
          196.06999999999996,
          238.50999999999996,
          224.75999999999996,
          201.83999999999997,
          170.71999999999997,
          165.54999999999998,
          98.93999999999998,
          69.39999999999998,
          65.18999999999998,
          67.26999999999998,
          97.54999999999998,
          97.54999999999998,
          97.54999999999998
         ]
        },
        {
         "mode": "lines+markers",
         "name": "Eli (Time)",
         "type": "scatter",
         "visible": false,
         "x": [
          "2025-05-27T04:40:01+00:00",
          "2025-05-30T16:53:25+00:00",
          "2025-06-03T09:48:33+00:00"
         ],
         "y": [
          0,
          135.78,
          135.78
         ]
        },
        {
         "mode": "lines+markers",
         "name": "Eli (Count)",
         "type": "scatter",
         "visible": false,
         "x": [
          1,
          2,
          3
         ],
         "y": [
          0,
          135.78,
          135.78
         ]
        },
        {
         "mode": "lines+markers",
         "name": "Empire (Time)",
         "type": "scatter",
         "visible": false,
         "x": [
          "2025-05-28T15:12:16+00:00",
          "2025-05-28T16:40:04+00:00",
          "2025-05-28T17:39:16+00:00",
          "2025-05-28T17:50:25+00:00",
          "2025-05-30T16:55:56+00:00",
          "2025-06-04T10:59:40+00:00",
          "2025-06-04T11:06:26+00:00"
         ],
         "y": [
          -94.8,
          -187.5,
          -287.04,
          -384.48,
          -411.57,
          -411.71,
          -339.95
         ]
        },
        {
         "mode": "lines+markers",
         "name": "Empire (Count)",
         "type": "scatter",
         "visible": false,
         "x": [
          1,
          2,
          3,
          4,
          5,
          6,
          7
         ],
         "y": [
          -94.8,
          -187.5,
          -287.04,
          -384.48,
          -411.57,
          -411.71,
          -339.95
         ]
        },
        {
         "mode": "lines+markers",
         "name": "Lily (Time)",
         "type": "scatter",
         "visible": false,
         "x": [
          "2025-05-26T18:46:54+00:00",
          "2025-05-27T08:45:49+00:00",
          "2025-05-27T19:10:57+00:00",
          "2025-05-28T08:38:49+00:00",
          "2025-05-28T14:13:38+00:00",
          "2025-05-28T17:00:31+00:00",
          "2025-05-29T07:44:36+00:00",
          "2025-05-29T10:18:21+00:00",
          "2025-05-30T07:41:17+00:00",
          "2025-05-30T15:02:07+00:00",
          "2025-05-30T15:40:59+00:00",
          "2025-06-02T06:01:27+00:00",
          "2025-06-03T07:52:03+00:00",
          "2025-06-03T10:02:32+00:00",
          "2025-06-03T16:52:13+00:00",
          "2025-06-03T19:30:43+00:00",
          "2025-06-04T09:41:00+00:00",
          "2025-06-04T17:11:49+00:00"
         ],
         "y": [
          -96.6,
          -192.03,
          -291.69,
          -304.36,
          -232.99,
          -142.53000000000003,
          -142.41000000000003,
          -234.23000000000002,
          -332.99,
          -335.95,
          -238.35,
          -335.19,
          -432.15,
          -443.7,
          -541,
          -640.12,
          -730.42,
          -834.3199999999999
         ]
        },
        {
         "mode": "lines+markers",
         "name": "Lily (Count)",
         "type": "scatter",
         "visible": false,
         "x": [
          1,
          2,
          3,
          4,
          5,
          6,
          7,
          8,
          9,
          10,
          11,
          12,
          13,
          14,
          15,
          16,
          17,
          18
         ],
         "y": [
          -96.6,
          -192.03,
          -291.69,
          -304.36,
          -232.99,
          -142.53000000000003,
          -142.41000000000003,
          -234.23000000000002,
          -332.99,
          -335.95,
          -238.35,
          -335.19,
          -432.15,
          -443.7,
          -541,
          -640.12,
          -730.42,
          -834.3199999999999
         ]
        },
        {
         "mode": "lines+markers",
         "name": "Nemat (Time)",
         "type": "scatter",
         "visible": false,
         "x": [
          "2025-05-27T05:41:12+00:00",
          "2025-05-27T10:21:43+00:00",
          "2025-05-28T07:56:01+00:00",
          "2025-05-28T15:56:01+00:00",
          "2025-05-29T05:26:34+00:00",
          "2025-05-30T10:42:30+00:00",
          "2025-05-30T16:23:18+00:00",
          "2025-06-02T04:35:12+00:00",
          "2025-06-02T15:48:31+00:00",
          "2025-06-03T11:43:04+00:00",
          "2025-06-03T11:43:32+00:00",
          "2025-06-04T08:27:51+00:00"
         ],
         "y": [
          83.42,
          138.48000000000002,
          42.32000000000002,
          -9.799999999999983,
          45.20000000000002,
          69.63000000000002,
          133.37,
          270.99,
          337.71000000000004,
          400.36,
          463.01,
          514.3299999999999
         ]
        },
        {
         "mode": "lines+markers",
         "name": "Nemat (Count)",
         "type": "scatter",
         "visible": false,
         "x": [
          1,
          2,
          3,
          4,
          5,
          6,
          7,
          8,
          9,
          10,
          11,
          12
         ],
         "y": [
          83.42,
          138.48000000000002,
          42.32000000000002,
          -9.799999999999983,
          45.20000000000002,
          69.63000000000002,
          133.37,
          270.99,
          337.71000000000004,
          400.36,
          463.01,
          514.3299999999999
         ]
        }
       ],
       "layout": {
        "height": 600,
        "legend": {
         "orientation": "h",
         "y": -0.25,
         "yanchor": "bottom"
        },
        "template": {
         "data": {
          "bar": [
           {
            "error_x": {
             "color": "#2a3f5f"
            },
            "error_y": {
             "color": "#2a3f5f"
            },
            "marker": {
             "line": {
              "color": "#E5ECF6",
              "width": 0.5
             },
             "pattern": {
              "fillmode": "overlay",
              "size": 10,
              "solidity": 0.2
             }
            },
            "type": "bar"
           }
          ],
          "barpolar": [
           {
            "marker": {
             "line": {
              "color": "#E5ECF6",
              "width": 0.5
             },
             "pattern": {
              "fillmode": "overlay",
              "size": 10,
              "solidity": 0.2
             }
            },
            "type": "barpolar"
           }
          ],
          "carpet": [
           {
            "aaxis": {
             "endlinecolor": "#2a3f5f",
             "gridcolor": "white",
             "linecolor": "white",
             "minorgridcolor": "white",
             "startlinecolor": "#2a3f5f"
            },
            "baxis": {
             "endlinecolor": "#2a3f5f",
             "gridcolor": "white",
             "linecolor": "white",
             "minorgridcolor": "white",
             "startlinecolor": "#2a3f5f"
            },
            "type": "carpet"
           }
          ],
          "choropleth": [
           {
            "colorbar": {
             "outlinewidth": 0,
             "ticks": ""
            },
            "type": "choropleth"
           }
          ],
          "contour": [
           {
            "colorbar": {
             "outlinewidth": 0,
             "ticks": ""
            },
            "colorscale": [
             [
              0,
              "#0d0887"
             ],
             [
              0.1111111111111111,
              "#46039f"
             ],
             [
              0.2222222222222222,
              "#7201a8"
             ],
             [
              0.3333333333333333,
              "#9c179e"
             ],
             [
              0.4444444444444444,
              "#bd3786"
             ],
             [
              0.5555555555555556,
              "#d8576b"
             ],
             [
              0.6666666666666666,
              "#ed7953"
             ],
             [
              0.7777777777777778,
              "#fb9f3a"
             ],
             [
              0.8888888888888888,
              "#fdca26"
             ],
             [
              1,
              "#f0f921"
             ]
            ],
            "type": "contour"
           }
          ],
          "contourcarpet": [
           {
            "colorbar": {
             "outlinewidth": 0,
             "ticks": ""
            },
            "type": "contourcarpet"
           }
          ],
          "heatmap": [
           {
            "colorbar": {
             "outlinewidth": 0,
             "ticks": ""
            },
            "colorscale": [
             [
              0,
              "#0d0887"
             ],
             [
              0.1111111111111111,
              "#46039f"
             ],
             [
              0.2222222222222222,
              "#7201a8"
             ],
             [
              0.3333333333333333,
              "#9c179e"
             ],
             [
              0.4444444444444444,
              "#bd3786"
             ],
             [
              0.5555555555555556,
              "#d8576b"
             ],
             [
              0.6666666666666666,
              "#ed7953"
             ],
             [
              0.7777777777777778,
              "#fb9f3a"
             ],
             [
              0.8888888888888888,
              "#fdca26"
             ],
             [
              1,
              "#f0f921"
             ]
            ],
            "type": "heatmap"
           }
          ],
          "heatmapgl": [
           {
            "colorbar": {
             "outlinewidth": 0,
             "ticks": ""
            },
            "colorscale": [
             [
              0,
              "#0d0887"
             ],
             [
              0.1111111111111111,
              "#46039f"
             ],
             [
              0.2222222222222222,
              "#7201a8"
             ],
             [
              0.3333333333333333,
              "#9c179e"
             ],
             [
              0.4444444444444444,
              "#bd3786"
             ],
             [
              0.5555555555555556,
              "#d8576b"
             ],
             [
              0.6666666666666666,
              "#ed7953"
             ],
             [
              0.7777777777777778,
              "#fb9f3a"
             ],
             [
              0.8888888888888888,
              "#fdca26"
             ],
             [
              1,
              "#f0f921"
             ]
            ],
            "type": "heatmapgl"
           }
          ],
          "histogram": [
           {
            "marker": {
             "pattern": {
              "fillmode": "overlay",
              "size": 10,
              "solidity": 0.2
             }
            },
            "type": "histogram"
           }
          ],
          "histogram2d": [
           {
            "colorbar": {
             "outlinewidth": 0,
             "ticks": ""
            },
            "colorscale": [
             [
              0,
              "#0d0887"
             ],
             [
              0.1111111111111111,
              "#46039f"
             ],
             [
              0.2222222222222222,
              "#7201a8"
             ],
             [
              0.3333333333333333,
              "#9c179e"
             ],
             [
              0.4444444444444444,
              "#bd3786"
             ],
             [
              0.5555555555555556,
              "#d8576b"
             ],
             [
              0.6666666666666666,
              "#ed7953"
             ],
             [
              0.7777777777777778,
              "#fb9f3a"
             ],
             [
              0.8888888888888888,
              "#fdca26"
             ],
             [
              1,
              "#f0f921"
             ]
            ],
            "type": "histogram2d"
           }
          ],
          "histogram2dcontour": [
           {
            "colorbar": {
             "outlinewidth": 0,
             "ticks": ""
            },
            "colorscale": [
             [
              0,
              "#0d0887"
             ],
             [
              0.1111111111111111,
              "#46039f"
             ],
             [
              0.2222222222222222,
              "#7201a8"
             ],
             [
              0.3333333333333333,
              "#9c179e"
             ],
             [
              0.4444444444444444,
              "#bd3786"
             ],
             [
              0.5555555555555556,
              "#d8576b"
             ],
             [
              0.6666666666666666,
              "#ed7953"
             ],
             [
              0.7777777777777778,
              "#fb9f3a"
             ],
             [
              0.8888888888888888,
              "#fdca26"
             ],
             [
              1,
              "#f0f921"
             ]
            ],
            "type": "histogram2dcontour"
           }
          ],
          "mesh3d": [
           {
            "colorbar": {
             "outlinewidth": 0,
             "ticks": ""
            },
            "type": "mesh3d"
           }
          ],
          "parcoords": [
           {
            "line": {
             "colorbar": {
              "outlinewidth": 0,
              "ticks": ""
             }
            },
            "type": "parcoords"
           }
          ],
          "pie": [
           {
            "automargin": true,
            "type": "pie"
           }
          ],
          "scatter": [
           {
            "fillpattern": {
             "fillmode": "overlay",
             "size": 10,
             "solidity": 0.2
            },
            "type": "scatter"
           }
          ],
          "scatter3d": [
           {
            "line": {
             "colorbar": {
              "outlinewidth": 0,
              "ticks": ""
             }
            },
            "marker": {
             "colorbar": {
              "outlinewidth": 0,
              "ticks": ""
             }
            },
            "type": "scatter3d"
           }
          ],
          "scattercarpet": [
           {
            "marker": {
             "colorbar": {
              "outlinewidth": 0,
              "ticks": ""
             }
            },
            "type": "scattercarpet"
           }
          ],
          "scattergeo": [
           {
            "marker": {
             "colorbar": {
              "outlinewidth": 0,
              "ticks": ""
             }
            },
            "type": "scattergeo"
           }
          ],
          "scattergl": [
           {
            "marker": {
             "colorbar": {
              "outlinewidth": 0,
              "ticks": ""
             }
            },
            "type": "scattergl"
           }
          ],
          "scattermapbox": [
           {
            "marker": {
             "colorbar": {
              "outlinewidth": 0,
              "ticks": ""
             }
            },
            "type": "scattermapbox"
           }
          ],
          "scatterpolar": [
           {
            "marker": {
             "colorbar": {
              "outlinewidth": 0,
              "ticks": ""
             }
            },
            "type": "scatterpolar"
           }
          ],
          "scatterpolargl": [
           {
            "marker": {
             "colorbar": {
              "outlinewidth": 0,
              "ticks": ""
             }
            },
            "type": "scatterpolargl"
           }
          ],
          "scatterternary": [
           {
            "marker": {
             "colorbar": {
              "outlinewidth": 0,
              "ticks": ""
             }
            },
            "type": "scatterternary"
           }
          ],
          "surface": [
           {
            "colorbar": {
             "outlinewidth": 0,
             "ticks": ""
            },
            "colorscale": [
             [
              0,
              "#0d0887"
             ],
             [
              0.1111111111111111,
              "#46039f"
             ],
             [
              0.2222222222222222,
              "#7201a8"
             ],
             [
              0.3333333333333333,
              "#9c179e"
             ],
             [
              0.4444444444444444,
              "#bd3786"
             ],
             [
              0.5555555555555556,
              "#d8576b"
             ],
             [
              0.6666666666666666,
              "#ed7953"
             ],
             [
              0.7777777777777778,
              "#fb9f3a"
             ],
             [
              0.8888888888888888,
              "#fdca26"
             ],
             [
              1,
              "#f0f921"
             ]
            ],
            "type": "surface"
           }
          ],
          "table": [
           {
            "cells": {
             "fill": {
              "color": "#EBF0F8"
             },
             "line": {
              "color": "white"
             }
            },
            "header": {
             "fill": {
              "color": "#C8D4E3"
             },
             "line": {
              "color": "white"
             }
            },
            "type": "table"
           }
          ]
         },
         "layout": {
          "annotationdefaults": {
           "arrowcolor": "#2a3f5f",
           "arrowhead": 0,
           "arrowwidth": 1
          },
          "autotypenumbers": "strict",
          "coloraxis": {
           "colorbar": {
            "outlinewidth": 0,
            "ticks": ""
           }
          },
          "colorscale": {
           "diverging": [
            [
             0,
             "#8e0152"
            ],
            [
             0.1,
             "#c51b7d"
            ],
            [
             0.2,
             "#de77ae"
            ],
            [
             0.3,
             "#f1b6da"
            ],
            [
             0.4,
             "#fde0ef"
            ],
            [
             0.5,
             "#f7f7f7"
            ],
            [
             0.6,
             "#e6f5d0"
            ],
            [
             0.7,
             "#b8e186"
            ],
            [
             0.8,
             "#7fbc41"
            ],
            [
             0.9,
             "#4d9221"
            ],
            [
             1,
             "#276419"
            ]
           ],
           "sequential": [
            [
             0,
             "#0d0887"
            ],
            [
             0.1111111111111111,
             "#46039f"
            ],
            [
             0.2222222222222222,
             "#7201a8"
            ],
            [
             0.3333333333333333,
             "#9c179e"
            ],
            [
             0.4444444444444444,
             "#bd3786"
            ],
            [
             0.5555555555555556,
             "#d8576b"
            ],
            [
             0.6666666666666666,
             "#ed7953"
            ],
            [
             0.7777777777777778,
             "#fb9f3a"
            ],
            [
             0.8888888888888888,
             "#fdca26"
            ],
            [
             1,
             "#f0f921"
            ]
           ],
           "sequentialminus": [
            [
             0,
             "#0d0887"
            ],
            [
             0.1111111111111111,
             "#46039f"
            ],
            [
             0.2222222222222222,
             "#7201a8"
            ],
            [
             0.3333333333333333,
             "#9c179e"
            ],
            [
             0.4444444444444444,
             "#bd3786"
            ],
            [
             0.5555555555555556,
             "#d8576b"
            ],
            [
             0.6666666666666666,
             "#ed7953"
            ],
            [
             0.7777777777777778,
             "#fb9f3a"
            ],
            [
             0.8888888888888888,
             "#fdca26"
            ],
            [
             1,
             "#f0f921"
            ]
           ]
          },
          "colorway": [
           "#636efa",
           "#EF553B",
           "#00cc96",
           "#ab63fa",
           "#FFA15A",
           "#19d3f3",
           "#FF6692",
           "#B6E880",
           "#FF97FF",
           "#FECB52"
          ],
          "font": {
           "color": "#2a3f5f"
          },
          "geo": {
           "bgcolor": "white",
           "lakecolor": "white",
           "landcolor": "#E5ECF6",
           "showlakes": true,
           "showland": true,
           "subunitcolor": "white"
          },
          "hoverlabel": {
           "align": "left"
          },
          "hovermode": "closest",
          "mapbox": {
           "style": "light"
          },
          "paper_bgcolor": "white",
          "plot_bgcolor": "#E5ECF6",
          "polar": {
           "angularaxis": {
            "gridcolor": "white",
            "linecolor": "white",
            "ticks": ""
           },
           "bgcolor": "#E5ECF6",
           "radialaxis": {
            "gridcolor": "white",
            "linecolor": "white",
            "ticks": ""
           }
          },
          "scene": {
           "xaxis": {
            "backgroundcolor": "#E5ECF6",
            "gridcolor": "white",
            "gridwidth": 2,
            "linecolor": "white",
            "showbackground": true,
            "ticks": "",
            "zerolinecolor": "white"
           },
           "yaxis": {
            "backgroundcolor": "#E5ECF6",
            "gridcolor": "white",
            "gridwidth": 2,
            "linecolor": "white",
            "showbackground": true,
            "ticks": "",
            "zerolinecolor": "white"
           },
           "zaxis": {
            "backgroundcolor": "#E5ECF6",
            "gridcolor": "white",
            "gridwidth": 2,
            "linecolor": "white",
            "showbackground": true,
            "ticks": "",
            "zerolinecolor": "white"
           }
          },
          "shapedefaults": {
           "line": {
            "color": "#2a3f5f"
           }
          },
          "ternary": {
           "aaxis": {
            "gridcolor": "white",
            "linecolor": "white",
            "ticks": ""
           },
           "baxis": {
            "gridcolor": "white",
            "linecolor": "white",
            "ticks": ""
           },
           "bgcolor": "#E5ECF6",
           "caxis": {
            "gridcolor": "white",
            "linecolor": "white",
            "ticks": ""
           }
          },
          "title": {
           "x": 0.05
          },
          "xaxis": {
           "automargin": true,
           "gridcolor": "white",
           "linecolor": "white",
           "ticks": "",
           "title": {
            "standoff": 15
           },
           "zerolinecolor": "white",
           "zerolinewidth": 2
          },
          "yaxis": {
           "automargin": true,
           "gridcolor": "white",
           "linecolor": "white",
           "ticks": "",
           "title": {
            "standoff": 15
           },
           "zerolinecolor": "white",
           "zerolinewidth": 2
          }
         }
        },
        "title": {
         "text": "Cumulative Profit – All Traders (Time)"
        },
        "updatemenus": [
         {
          "buttons": [
           {
            "args": [
             {
              "visible": [
               true,
               false,
               false,
               false,
               false,
               false,
               false,
               false,
               false,
               false,
               false,
               false
              ]
             },
             {
              "title": "Cumulative Profit – All Traders (Time)",
              "xaxis": {
               "title": "Time"
              }
             }
            ],
            "label": "All Traders",
            "method": "update"
           },
           {
            "args": [
             {
              "visible": [
               false,
               false,
               true,
               false,
               false,
               false,
               false,
               false,
               false,
               false,
               false,
               false
              ]
             },
             {
              "title": "Cumulative Profit – Ata (Time)",
              "xaxis": {
               "title": "Time"
              }
             }
            ],
            "label": "Ata",
            "method": "update"
           },
           {
            "args": [
             {
              "visible": [
               false,
               false,
               false,
               false,
               true,
               false,
               false,
               false,
               false,
               false,
               false,
               false
              ]
             },
             {
              "title": "Cumulative Profit – Eli (Time)",
              "xaxis": {
               "title": "Time"
              }
             }
            ],
            "label": "Eli",
            "method": "update"
           },
           {
            "args": [
             {
              "visible": [
               false,
               false,
               false,
               false,
               false,
               false,
               true,
               false,
               false,
               false,
               false,
               false
              ]
             },
             {
              "title": "Cumulative Profit – Empire (Time)",
              "xaxis": {
               "title": "Time"
              }
             }
            ],
            "label": "Empire",
            "method": "update"
           },
           {
            "args": [
             {
              "visible": [
               false,
               false,
               false,
               false,
               false,
               false,
               false,
               false,
               true,
               false,
               false,
               false
              ]
             },
             {
              "title": "Cumulative Profit – Lily (Time)",
              "xaxis": {
               "title": "Time"
              }
             }
            ],
            "label": "Lily",
            "method": "update"
           },
           {
            "args": [
             {
              "visible": [
               false,
               false,
               false,
               false,
               false,
               false,
               false,
               false,
               false,
               false,
               true,
               false
              ]
             },
             {
              "title": "Cumulative Profit – Nemat (Time)",
              "xaxis": {
               "title": "Time"
              }
             }
            ],
            "label": "Nemat",
            "method": "update"
           }
          ],
          "direction": "down",
          "x": 1.16,
          "y": 0.85
         },
         {
          "buttons": [
           {
            "args": [
             {
              "visible": [
               true,
               false,
               true,
               false,
               true,
               false,
               true,
               false,
               true,
               false,
               true,
               false
              ]
             },
             {
              "xaxis": {
               "title": "Time"
              }
             }
            ],
            "label": "X: Time",
            "method": "update"
           },
           {
            "args": [
             {
              "visible": [
               false,
               true,
               false,
               true,
               false,
               true,
               false,
               true,
               false,
               true,
               false,
               true
              ]
             },
             {
              "xaxis": {
               "title": "Trade Number"
              }
             }
            ],
            "label": "X: Trade #",
            "method": "update"
           }
          ],
          "direction": "down",
          "x": 1.16,
          "y": 0.72
         }
        ],
        "xaxis": {
         "title": {
          "text": "Time"
         }
        },
        "yaxis": {
         "title": {
          "text": "Cumulative Profit"
         }
        }
       }
      }
     },
     "metadata": {},
     "output_type": "display_data"
    }
   ],
   "source": [
    "def cumulative_pnl_plot(gdf: pd.DataFrame) -> go.Figure:\n",
    "    \"\"\"Interactive line plot: cumulative P&L vs time OR vs trade #.\"\"\"\n",
    "    traders   = sorted(gdf['trader'].dropna().unique().tolist())\n",
    "    categories= ['All Traders'] + traders\n",
    "\n",
    "    traces, idx = [], {}      # map (trader, mode) → trace index\n",
    "\n",
    "    for trader in categories:\n",
    "        data = gdf if trader == 'All Traders' else gdf[gdf['trader'] == trader]\n",
    "        if data.empty: \n",
    "            continue\n",
    "        data = data.copy()\n",
    "        data['cum_profit']   = data['sum_profit'].cumsum()\n",
    "        data['trade_number'] = range(1, len(data)+1)\n",
    "\n",
    "        # --- time-based trace\n",
    "        idx[(trader, 'time')] = len(traces)\n",
    "        traces.append(go.Scatter(\n",
    "            x=data.index, y=data['cum_profit'],\n",
    "            name=f\"{trader} (Time)\",\n",
    "            mode='lines+markers',\n",
    "            visible=(trader == 'All Traders')\n",
    "        ))\n",
    "        # --- count-based trace\n",
    "        idx[(trader, 'count')] = len(traces)\n",
    "        traces.append(go.Scatter(\n",
    "            x=data['trade_number'], y=data['cum_profit'],\n",
    "            name=f\"{trader} (Count)\",\n",
    "            mode='lines+markers',\n",
    "            visible=False\n",
    "        ))\n",
    "\n",
    "    # --- dropdown A: trader filter\n",
    "    trader_buttons = []\n",
    "    for trader in categories:\n",
    "        vis = [False]*len(traces)\n",
    "        if (trader, 'time') in idx:\n",
    "            vis[idx[(trader, 'time')]] = True\n",
    "        trader_buttons.append(dict(\n",
    "            label=trader, method=\"update\",\n",
    "            args=[{\"visible\": vis},\n",
    "                  {\"title\": f\"Cumulative Profit – {trader} (Time)\", \n",
    "                   \"xaxis\": {\"title\": \"Time\"}}]\n",
    "        ))\n",
    "\n",
    "    # --- dropdown B: x-axis mode\n",
    "    mode_buttons = [\n",
    "        dict(label=\"X: Time\", method=\"update\",\n",
    "             args=[{\"visible\": [t.name.endswith('(Time)') for t in traces]},\n",
    "                   {\"xaxis\": {\"title\": \"Time\"}}]),\n",
    "        dict(label=\"X: Trade #\", method=\"update\",\n",
    "             args=[{\"visible\": [t.name.endswith('(Count)') for t in traces]},\n",
    "                   {\"xaxis\": {\"title\": \"Trade Number\"}}])\n",
    "    ]\n",
    "\n",
    "    fig = go.Figure(traces)\n",
    "    fig.update_layout(\n",
    "        title=\"Cumulative Profit – All Traders (Time)\",\n",
    "        yaxis_title=\"Cumulative Profit\",\n",
    "        xaxis_title=\"Time\",\n",
    "        updatemenus=[\n",
    "            dict(buttons=trader_buttons, direction=\"down\", x=1.16, y=0.85),\n",
    "            dict(buttons=mode_buttons,   direction=\"down\", x=1.16, y=0.72),\n",
    "        ],\n",
    "        height=600,\n",
    "        legend=dict(orientation=\"h\", yanchor=\"bottom\", y=-0.25)\n",
    "    )\n",
    "    return fig\n",
    "\n",
    "cumulative_pnl_plot(grouped).show()\n"
   ]
  }
 ],
 "metadata": {
  "kernelspec": {
   "display_name": "cumbizz",
   "language": "python",
   "name": "python3"
  },
  "language_info": {
   "codemirror_mode": {
    "name": "ipython",
    "version": 3
   },
   "file_extension": ".py",
   "mimetype": "text/x-python",
   "name": "python",
   "nbconvert_exporter": "python",
   "pygments_lexer": "ipython3",
   "version": "3.13.2"
  }
 },
 "nbformat": 4,
 "nbformat_minor": 5
}
